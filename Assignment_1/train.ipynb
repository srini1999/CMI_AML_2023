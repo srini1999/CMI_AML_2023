{
 "cells": [
  {
   "cell_type": "code",
   "execution_count": 54,
   "id": "399a9e46",
   "metadata": {},
   "outputs": [],
   "source": [
    "import pandas as pd\n",
    "import csv\n",
    "from textblob import TextBlob\n",
    "from sklearn.feature_extraction.text import CountVectorizer, TfidfTransformer\n",
    "from sklearn.naive_bayes import MultinomialNB\n",
    "from sklearn.metrics import classification_report, f1_score, accuracy_score, confusion_matrix\n",
    "from sklearn.linear_model import LogisticRegression\n",
    "from sklearn.svm import SVC"
   ]
  },
  {
   "cell_type": "markdown",
   "id": "8a99f460",
   "metadata": {},
   "source": [
    "# Preprocessing steps"
   ]
  },
  {
   "cell_type": "code",
   "execution_count": 12,
   "id": "00efdb54",
   "metadata": {},
   "outputs": [],
   "source": [
    "def split_into_lemmas(message):\n",
    "    message = message.lower()\n",
    "    words = TextBlob(message).words\n",
    "    return [word.lemma for word in words]"
   ]
  },
  {
   "cell_type": "code",
   "execution_count": 26,
   "id": "5b2c1ca8",
   "metadata": {},
   "outputs": [],
   "source": [
    "messages = pd.read_csv('train.csv', sep='\\t', quoting=csv.QUOTE_NONE, index_col=False)\n",
    "bow_transformer = CountVectorizer(analyzer=split_into_lemmas).fit(messages['message'])\n",
    "messages_bow = bow_transformer.transform(messages['message'])\n",
    "tfidf_transformer = TfidfTransformer().fit(messages_bow)\n",
    "messages_tfidf = tfidf_transformer.transform(messages_bow)"
   ]
  },
  {
   "cell_type": "code",
   "execution_count": 39,
   "id": "e1a862fe",
   "metadata": {},
   "outputs": [],
   "source": [
    "valid = pd.read_csv('validate.csv', sep='\\t', quoting=csv.QUOTE_NONE, index_col=False)\n",
    "valid_bow = bow_transformer.transform(valid['message'])\n",
    "valid_tfidf = tfidf_transformer.transform(valid_bow)"
   ]
  },
  {
   "cell_type": "markdown",
   "id": "efcdfd8c",
   "metadata": {},
   "source": [
    "# Naive Bayes Classifier"
   ]
  },
  {
   "cell_type": "code",
   "execution_count": 36,
   "id": "4bf7bb26",
   "metadata": {},
   "outputs": [],
   "source": [
    "naive_bayes = MultinomialNB().fit(messages_tfidf, messages['label'])"
   ]
  },
  {
   "cell_type": "code",
   "execution_count": 60,
   "id": "4bb525e4",
   "metadata": {},
   "outputs": [
    {
     "name": "stdout",
     "output_type": "stream",
     "text": [
      "Training accuracy: 0.9641117662137914\n",
      "Training confusion matrix:\n",
      "               precision    recall  f1-score   support\n",
      "\n",
      "         ham       0.96      1.00      0.98      3380\n",
      "        spam       1.00      0.73      0.84       521\n",
      "\n",
      "    accuracy                           0.96      3901\n",
      "   macro avg       0.98      0.87      0.91      3901\n",
      "weighted avg       0.97      0.96      0.96      3901\n",
      "\n"
     ]
    }
   ],
   "source": [
    "all_predictions = naive_bayes.predict(messages_tfidf)\n",
    "print(\"Training accuracy:\", accuracy_score(messages['label'], all_predictions))\n",
    "print(\"Training confusion matrix:\\n\", classification_report(messages['label'], all_predictions))"
   ]
  },
  {
   "cell_type": "code",
   "execution_count": 61,
   "id": "901af047",
   "metadata": {},
   "outputs": [
    {
     "name": "stdout",
     "output_type": "stream",
     "text": [
      "Validation accuracy: 0.961768219832736\n",
      "Validation confusion matrix:\n",
      "               precision    recall  f1-score   support\n",
      "\n",
      "         ham       0.96      1.00      0.98       725\n",
      "        spam       1.00      0.71      0.83       112\n",
      "\n",
      "    accuracy                           0.96       837\n",
      "   macro avg       0.98      0.86      0.91       837\n",
      "weighted avg       0.96      0.96      0.96       837\n",
      "\n"
     ]
    }
   ],
   "source": [
    "all_predictions = naive_bayes.predict(valid_tfidf)\n",
    "print(\"Validation accuracy:\", accuracy_score(valid['label'], all_predictions))\n",
    "print(\"Validation confusion matrix:\\n\", classification_report(valid['label'], all_predictions))\n"
   ]
  },
  {
   "cell_type": "markdown",
   "id": "ffb55fe3",
   "metadata": {},
   "source": [
    "# Logistic Regression"
   ]
  },
  {
   "cell_type": "code",
   "execution_count": 62,
   "id": "cca7e5cc",
   "metadata": {},
   "outputs": [],
   "source": [
    "logistic_reg = LogisticRegression().fit(messages_tfidf, messages['label'])"
   ]
  },
  {
   "cell_type": "code",
   "execution_count": 63,
   "id": "5d08a26b",
   "metadata": {},
   "outputs": [
    {
     "name": "stdout",
     "output_type": "stream",
     "text": [
      "Training accuracy: 0.9751345808766982\n",
      "Training confusion matrix:\n",
      "               precision    recall  f1-score   support\n",
      "\n",
      "         ham       0.97      1.00      0.99      3380\n",
      "        spam       1.00      0.82      0.90       521\n",
      "\n",
      "    accuracy                           0.98      3901\n",
      "   macro avg       0.99      0.91      0.94      3901\n",
      "weighted avg       0.98      0.98      0.97      3901\n",
      "\n"
     ]
    }
   ],
   "source": [
    "all_predictions = logistic_reg.predict(messages_tfidf)\n",
    "print(\"Training accuracy:\", accuracy_score(messages['label'], all_predictions))\n",
    "print(\"Training confusion matrix:\\n\", classification_report(messages['label'], all_predictions))"
   ]
  },
  {
   "cell_type": "code",
   "execution_count": 64,
   "id": "d6b8c220",
   "metadata": {},
   "outputs": [
    {
     "name": "stdout",
     "output_type": "stream",
     "text": [
      "Validation accuracy: 0.970131421744325\n",
      "Validation confusion matrix:\n",
      "               precision    recall  f1-score   support\n",
      "\n",
      "         ham       0.97      1.00      0.98       725\n",
      "        spam       0.97      0.80      0.88       112\n",
      "\n",
      "    accuracy                           0.97       837\n",
      "   macro avg       0.97      0.90      0.93       837\n",
      "weighted avg       0.97      0.97      0.97       837\n",
      "\n"
     ]
    }
   ],
   "source": [
    "all_predictions = logistic_reg.predict(valid_tfidf)\n",
    "print(\"Validation accuracy:\", accuracy_score(valid['label'], all_predictions))\n",
    "print(\"Validation confusion matrix:\\n\", classification_report(valid['label'], all_predictions))"
   ]
  },
  {
   "cell_type": "markdown",
   "id": "02103271",
   "metadata": {},
   "source": [
    "# Support Vector Machines"
   ]
  },
  {
   "cell_type": "code",
   "execution_count": 65,
   "id": "971b1068",
   "metadata": {},
   "outputs": [],
   "source": [
    "support_vec = SVC().fit(messages_tfidf, messages['label'])"
   ]
  },
  {
   "cell_type": "code",
   "execution_count": 66,
   "id": "b4692a9a",
   "metadata": {},
   "outputs": [
    {
     "name": "stdout",
     "output_type": "stream",
     "text": [
      "Training accuracy: 0.9979492437836452\n",
      "Training confusion matrix:\n",
      "               precision    recall  f1-score   support\n",
      "\n",
      "         ham       1.00      1.00      1.00      3380\n",
      "        spam       1.00      0.98      0.99       521\n",
      "\n",
      "    accuracy                           1.00      3901\n",
      "   macro avg       1.00      0.99      1.00      3901\n",
      "weighted avg       1.00      1.00      1.00      3901\n",
      "\n"
     ]
    }
   ],
   "source": [
    "all_predictions = support_vec.predict(messages_tfidf)\n",
    "print(\"Training accuracy:\", accuracy_score(messages['label'], all_predictions))\n",
    "print(\"Training confusion matrix:\\n\", classification_report(messages['label'], all_predictions))"
   ]
  },
  {
   "cell_type": "code",
   "execution_count": 67,
   "id": "dd90ebda",
   "metadata": {},
   "outputs": [
    {
     "name": "stdout",
     "output_type": "stream",
     "text": [
      "Validation accuracy: 0.985663082437276\n",
      "Validation confusion matrix:\n",
      "               precision    recall  f1-score   support\n",
      "\n",
      "         ham       0.99      1.00      0.99       725\n",
      "        spam       0.99      0.90      0.94       112\n",
      "\n",
      "    accuracy                           0.99       837\n",
      "   macro avg       0.99      0.95      0.97       837\n",
      "weighted avg       0.99      0.99      0.99       837\n",
      "\n"
     ]
    }
   ],
   "source": [
    "all_predictions = support_vec.predict(valid_tfidf)\n",
    "print(\"Validation accuracy:\", accuracy_score(valid['label'], all_predictions))\n",
    "print(\"Validation confusion matrix:\\n\", classification_report(valid['label'], all_predictions))"
   ]
  }
 ],
 "metadata": {
  "kernelspec": {
   "display_name": "vrenv",
   "language": "python",
   "name": "vrenv"
  },
  "language_info": {
   "codemirror_mode": {
    "name": "ipython",
    "version": 3
   },
   "file_extension": ".py",
   "mimetype": "text/x-python",
   "name": "python",
   "nbconvert_exporter": "python",
   "pygments_lexer": "ipython3",
   "version": "3.10.8"
  }
 },
 "nbformat": 4,
 "nbformat_minor": 5
}
