{
 "cells": [
  {
   "cell_type": "code",
   "execution_count": 1,
   "id": "781f762d",
   "metadata": {},
   "outputs": [],
   "source": [
    "import pandas as pd\n",
    "import csv\n",
    "from sklearn.model_selection import train_test_split"
   ]
  },
  {
   "cell_type": "code",
   "execution_count": 28,
   "id": "e10aca69",
   "metadata": {},
   "outputs": [],
   "source": [
    "messages = pd.read_csv('../Assignment_1/data/SMSSpamCollection', sep='\\t', quoting=csv.QUOTE_NONE, names=[\"label\", \"message\"], index_col=False)\n",
    "y = messages['label']\n",
    "X = messages['message']\n",
    "X_train, X_rem, y_train, y_rem = train_test_split(X,y, train_size=0.7, random_state = 42)\n",
    "pd.DataFrame(list(zip(X_train, y_train)), columns=['message','label']).to_csv(\"data/train.csv\", sep='\\t', encoding='utf-8', index=False)\n",
    "X_test, X_validate, y_test, y_validate = train_test_split(X_rem,y_rem, train_size=0.5, random_state = 42)\n",
    "pd.DataFrame(list(zip(X_test, y_test)), columns=['message','label']).to_csv(\"data/test.csv\", sep='\\t', encoding='utf-8', index=False)\n",
    "pd.DataFrame(list(zip(X_validate, y_validate)), columns=['message','label']).to_csv(\"data/validate.csv\", sep='\\t', encoding='utf-8', index=False)"
   ]
  },
  {
   "attachments": {},
   "cell_type": "markdown",
   "id": "d52ef235",
   "metadata": {},
   "source": [
    "# These commands were run in terminal\n",
    "dvc init<br>\n",
    "dvc add data<br>\n",
    "git add data.dvc<br>\n",
    "git add .gitignore<br>\n",
    "git commit -m 'dvc activated'<br>"
   ]
  },
  {
   "cell_type": "code",
   "execution_count": 20,
   "id": "024f7acb",
   "metadata": {},
   "outputs": [],
   "source": [
    "messages = pd.read_csv('../Assignment_1/data/SMSSpamCollection', sep='\\t', quoting=csv.QUOTE_NONE, names=[\"label\", \"message\"], index_col=False)\n",
    "y = messages['label']\n",
    "X = messages['message']\n",
    "X_train, X_rem, y_train, y_rem = train_test_split(X,y, train_size=0.7, random_state = 69)\n",
    "pd.DataFrame(list(zip(X_train, y_train)), columns=['message','label']).to_csv(\"data/train.csv\", sep='\\t', encoding='utf-8', index=False)\n",
    "X_test, X_validate, y_test, y_validate = train_test_split(X_rem,y_rem, train_size=0.5, random_state = 69)\n",
    "pd.DataFrame(list(zip(X_test, y_test)), columns=['message','label']).to_csv(\"data/test.csv\", sep='\\t', encoding='utf-8', index=False)\n",
    "pd.DataFrame(list(zip(X_validate, y_validate)), columns=['message','label']).to_csv(\"data/validate.csv\", sep='\\t', encoding='utf-8', index=False)"
   ]
  },
  {
   "cell_type": "code",
   "execution_count": 21,
   "id": "bedf71eb",
   "metadata": {},
   "outputs": [
    {
     "name": "stdout",
     "output_type": "stream",
     "text": [
      "\u001b[?25l                                                                          \u001b[32m⠋\u001b[0m Checking graph\n",
      "Adding...                                                                       \n",
      "!\u001b[A\n",
      "Building data objects from data                       |0.00 [00:00,      ?obj/s]\u001b[A\n",
      "                                                                                \u001b[A\n",
      "!\u001b[A\n",
      "Building data objects from data                       |0.00 [00:00,      ?obj/s]\u001b[A\n",
      "                                                                                \u001b[A\n",
      "!\u001b[A\n",
      "  0% Checking cache in '/home/srinivas/AML/CMI_AML_2023/Assignment_2/.dvc/cache'\u001b[A\n",
      "                                                                                \u001b[A\n",
      "!\u001b[A\n",
      "  0%|          |Transferring                          0/4 [00:00<?,     ?file/s]\u001b[A\n",
      "\n",
      "!\u001b[A\u001b[A\n",
      "\n",
      "  0%|          |test.csv                           0.00/? [00:00<?,        ?B/s]\u001b[A\u001b[A\n",
      "\n",
      "\n",
      "  0%|          |train.csv                          0.00/? [00:00<?,        ?B/s]\u001b[A\u001b[A\u001b[A\n",
      "\n",
      "                                                                                \u001b[A\u001b[A\n",
      "\n",
      "\n",
      "                                                                                \u001b[A\u001b[A\u001b[A\n",
      "\n",
      "  0%|          |validate.csv                       0.00/? [00:00<?,        ?B/s]\u001b[A\u001b[A\n",
      "\n",
      "                                                                                \u001b[A\u001b[A\n",
      "\n",
      "!\u001b[A\u001b[A\n",
      "\n",
      "  0%|          |memory://.6cQegm5c2sBBfBzo4LUDDZ.tm0.00/? [00:00<?,        ?B/s]\u001b[A\u001b[A\n",
      "\n",
      "  0%|          |memory://.6cQegm5c2sBBfBzo4LUDDZ.0.00/209 [00:00<?,        ?B/s]\u001b[A\u001b[A\n",
      "\n",
      "\n",
      "!\u001b[A\u001b[A\u001b[A\n",
      "\n",
      "\n",
      "  0%|          |.6cQegm5c2sBBfBzo4LUDDZ.tmp        0.00/? [00:00<?,        ?B/s]\u001b[A\u001b[A\u001b[A\n",
      "\n",
      "                                                                                \u001b[A\u001b[A\n",
      "\n",
      "\n",
      "                                                                                \u001b[A\u001b[A\u001b[A\n",
      "                                                                                \u001b[A\n",
      "!\u001b[A\n",
      "Building data objects from data                       |0.00 [00:00,      ?obj/s]\u001b[A\n",
      "100% Adding...|████████████████████████████████████████|1/1 [00:00, 30.82file/s]\u001b[A\n",
      "\n",
      "To track the changes with git, run:\n",
      "\n",
      "\tgit add data.dvc\n",
      "\n",
      "To enable auto staging, run:\n",
      "\n",
      "\tdvc config core.autostage true\n",
      "\u001b[0m"
     ]
    }
   ],
   "source": [
    "!dvc add data\n",
    "!git add data.dvc"
   ]
  },
  {
   "cell_type": "code",
   "execution_count": 26,
   "id": "ee5a4614",
   "metadata": {},
   "outputs": [],
   "source": [
    "!git tag"
   ]
  }
 ],
 "metadata": {
  "kernelspec": {
   "display_name": "venv",
   "language": "python",
   "name": "venv"
  },
  "language_info": {
   "codemirror_mode": {
    "name": "ipython",
    "version": 3
   },
   "file_extension": ".py",
   "mimetype": "text/x-python",
   "name": "python",
   "nbconvert_exporter": "python",
   "pygments_lexer": "ipython3",
   "version": "3.10.9"
  }
 },
 "nbformat": 4,
 "nbformat_minor": 5
}
