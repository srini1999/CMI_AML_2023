{
 "cells": [
  {
   "cell_type": "code",
   "execution_count": 1,
   "id": "781f762d",
   "metadata": {},
   "outputs": [],
   "source": [
    "import pandas as pd\n",
    "import csv\n",
    "from sklearn.model_selection import train_test_split"
   ]
  },
  {
   "cell_type": "code",
   "execution_count": 4,
   "id": "e10aca69",
   "metadata": {},
   "outputs": [],
   "source": [
    "messages = pd.read_csv('../Assignment_1/data/SMSSpamCollection', sep='\\t', quoting=csv.QUOTE_NONE, names=[\"label\", \"message\"], index_col=False)\n",
    "y = messages['label']\n",
    "X = messages['message']\n",
    "X_train, X_rem, y_train, y_rem = train_test_split(X,y, train_size=0.7, random_state = 42)\n",
    "pd.DataFrame(list(zip(X_train, y_train)), columns=['message','label']).to_csv(\"data/train.csv\", sep='\\t', encoding='utf-8', index=False)\n",
    "X_test, X_validate, y_test, y_validate = train_test_split(X_rem,y_rem, train_size=0.5, random_state = 42)\n",
    "pd.DataFrame(list(zip(X_test, y_test)), columns=['message','label']).to_csv(\"data/test.csv\", sep='\\t', encoding='utf-8', index=False)\n",
    "pd.DataFrame(list(zip(X_validate, y_validate)), columns=['message','label']).to_csv(\"data/validate.csv\", sep='\\t', encoding='utf-8', index=False)"
   ]
  },
  {
   "cell_type": "code",
   "execution_count": 19,
   "id": "d52ef235",
   "metadata": {},
   "outputs": [],
   "source": [
    "!dvc init\n",
    "!dvc add data\n",
    "!git add data.dvc\n",
    "!git add .gitignore\n",
    "!git commit -m 'dvc activated'"
   ]
  }
 ],
 "metadata": {
  "kernelspec": {
   "display_name": "venv",
   "language": "python",
   "name": "venv"
  },
  "language_info": {
   "codemirror_mode": {
    "name": "ipython",
    "version": 3
   },
   "file_extension": ".py",
   "mimetype": "text/x-python",
   "name": "python",
   "nbconvert_exporter": "python",
   "pygments_lexer": "ipython3",
   "version": "3.10.9"
  }
 },
 "nbformat": 4,
 "nbformat_minor": 5
}
