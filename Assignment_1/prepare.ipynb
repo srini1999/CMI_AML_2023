{
 "cells": [
  {
   "cell_type": "code",
   "execution_count": 49,
   "id": "6ece4732",
   "metadata": {},
   "outputs": [],
   "source": [
    "import pandas as pd\n",
    "import csv\n",
    "from sklearn.model_selection import train_test_split"
   ]
  },
  {
   "cell_type": "code",
   "execution_count": 50,
   "id": "a823fc48",
   "metadata": {},
   "outputs": [],
   "source": [
    "messages = pd.read_csv('./data/SMSSpamCollection', sep='\\t', quoting=csv.QUOTE_NONE, names=[\"label\", \"message\"], index_col=False)\n",
    "y = messages['label']\n",
    "X = messages['message']\n",
    "X_train, X_rem, y_train, y_rem = train_test_split(X,y, train_size=0.7, random_state = 42)\n",
    "pd.DataFrame(list(zip(X_train, y_train)), columns=['message','label']).to_csv(\"train.csv\", sep='\\t', encoding='utf-8', index=False)\n",
    "X_test, X_validate, y_test, y_validate = train_test_split(X_rem,y_rem, train_size=0.5, random_state = 42)\n",
    "pd.DataFrame(list(zip(X_test, y_test)), columns=['message','label']).to_csv(\"test.csv\", sep='\\t', encoding='utf-8', index=False)\n",
    "pd.DataFrame(list(zip(X_validate, y_validate)), columns=['message','label']).to_csv(\"validate.csv\", sep='\\t', encoding='utf-8', index=False)"
   ]
  }
 ],
 "metadata": {
  "kernelspec": {
   "display_name": "venv",
   "language": "python",
   "name": "python3"
  },
  "language_info": {
   "codemirror_mode": {
    "name": "ipython",
    "version": 3
   },
   "file_extension": ".py",
   "mimetype": "text/x-python",
   "name": "python",
   "nbconvert_exporter": "python",
   "pygments_lexer": "ipython3",
   "version": "3.10.4"
  },
  "vscode": {
   "interpreter": {
    "hash": "d7bec44ed14bb32858b54228f2324fcee84dc4166f61814a98859dcb53b53c94"
   }
  }
 },
 "nbformat": 4,
 "nbformat_minor": 5
}
