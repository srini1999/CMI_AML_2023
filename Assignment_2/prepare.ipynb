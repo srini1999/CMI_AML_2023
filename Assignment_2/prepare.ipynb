{
 "cells": [
  {
   "cell_type": "code",
   "execution_count": 1,
   "id": "781f762d",
   "metadata": {},
   "outputs": [],
   "source": [
    "import pandas as pd\n",
    "import csv\n",
    "from sklearn.model_selection import train_test_split"
   ]
  },
  {
   "cell_type": "code",
   "execution_count": 4,
   "id": "e10aca69",
   "metadata": {},
   "outputs": [],
   "source": [
    "messages = pd.read_csv('../Assignment_1/data/SMSSpamCollection', sep='\\t', quoting=csv.QUOTE_NONE, names=[\"label\", \"message\"], index_col=False)\n",
    "y = messages['label']\n",
    "X = messages['message']\n",
    "X_train, X_rem, y_train, y_rem = train_test_split(X,y, train_size=0.7, random_state = 42)\n",
    "pd.DataFrame(list(zip(X_train, y_train)), columns=['message','label']).to_csv(\"data/train.csv\", sep='\\t', encoding='utf-8', index=False)\n",
    "X_test, X_validate, y_test, y_validate = train_test_split(X_rem,y_rem, train_size=0.5, random_state = 42)\n",
    "pd.DataFrame(list(zip(X_test, y_test)), columns=['message','label']).to_csv(\"data/test.csv\", sep='\\t', encoding='utf-8', index=False)\n",
    "pd.DataFrame(list(zip(X_validate, y_validate)), columns=['message','label']).to_csv(\"data/validate.csv\", sep='\\t', encoding='utf-8', index=False)"
   ]
  },
  {
   "cell_type": "code",
   "execution_count": 6,
   "id": "d52ef235",
   "metadata": {},
   "outputs": [
    {
     "name": "stdout",
     "output_type": "stream",
     "text": [
      "\u001b[31mERROR\u001b[39m: you are not inside of a DVC repository (checked up to mount point '/')\n",
      "\u001b[0mfatal: pathspec 'data.dvc' did not match any files\n",
      "fatal: pathspec '.gitignore' did not match any files\n",
      "On branch main\n",
      "Your branch is ahead of 'origin/main' by 1 commit.\n",
      "  (use \"git push\" to publish your local commits)\n",
      "\n",
      "Changes not staged for commit:\n",
      "  (use \"git add <file>...\" to update what will be committed)\n",
      "  (use \"git restore <file>...\" to discard changes in working directory)\n",
      "\t\u001b[31mmodified:   ../Assignment_1/prepare.ipynb\u001b[m\n",
      "\t\u001b[31mmodified:   prepare.ipynb\u001b[m\n",
      "\n",
      "no changes added to commit (use \"git add\" and/or \"git commit -a\")\n"
     ]
    }
   ],
   "source": [
    "!dvc add Assignment_2/data\n",
    "!git add data.dvc\n",
    "!git add .gitignore\n",
    "!git commit -m 'dvc activated'"
   ]
  }
 ],
 "metadata": {
  "kernelspec": {
   "display_name": "venv",
   "language": "python",
   "name": "venv"
  },
  "language_info": {
   "codemirror_mode": {
    "name": "ipython",
    "version": 3
   },
   "file_extension": ".py",
   "mimetype": "text/x-python",
   "name": "python",
   "nbconvert_exporter": "python",
   "pygments_lexer": "ipython3",
   "version": "3.10.9"
  }
 },
 "nbformat": 4,
 "nbformat_minor": 5
}
